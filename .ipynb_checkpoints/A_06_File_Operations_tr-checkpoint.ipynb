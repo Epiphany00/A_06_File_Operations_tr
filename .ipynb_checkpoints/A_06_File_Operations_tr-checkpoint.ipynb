{
 "cells": [
  {
   "cell_type": "code",
   "execution_count": 24,
   "metadata": {
    "scrolled": false
   },
   "outputs": [
    {
     "name": "stdout",
     "output_type": "stream",
     "text": [
      "Number of lines: 40 \n"
     ]
    }
   ],
   "source": [
    "# Seçeceğiniz herhangi bir şiiri bilgisayarına .txt dosyası olarak kaydedin. Şiirin kaç dizeden oluştuğunu hesaplayın.\n",
    "\n",
    "with  open(\"Ben Sana Mecburum - Attila İlhan.txt\",\"r\" , encoding='utf8') as file :\n",
    "    counter = 0\n",
    "\n",
    "    content = file.read()\n",
    "    lines = content.split(\"\\n\")\n",
    "\n",
    "    for i in lines:\n",
    "        if i:\n",
    "            counter += 1\n",
    "\n",
    "    print(\"Number of lines: {} \".format(counter))\n",
    "\n"
   ]
  },
  {
   "cell_type": "code",
   "execution_count": null,
   "metadata": {},
   "outputs": [],
   "source": [
    "# Yeni bir dosyaya her şiirdeki her dizenin ilk kelimesini yazdırın."
   ]
  },
  {
   "cell_type": "code",
   "execution_count": 25,
   "metadata": {},
   "outputs": [
    {
     "name": "stdout",
     "output_type": "stream",
     "text": [
      "Ben\n",
      "Adını\n",
      "Büyüdükçe\n",
      "Ben\n",
      "İçimi\n",
      "\n",
      "Ağaçlar\n",
      "Bu\n",
      "Karanlıkta\n",
      "Sokak\n",
      "Kaldırımlarda\n",
      "Ben\n",
      "\n",
      "Sevmek\n",
      "İnsan\n",
      "Tutsak\n",
      "Kimi\n",
      "Bir\n",
      "Hangi\n",
      "Arkasında\n",
      "\n",
      "Fatih'te\n",
      "Eski\n",
      "Durup\n",
      "Sana\n",
      "Haftalar\n",
      "Ne\n",
      "Ben\n",
      "\n",
      "Belki\n",
      "Ah\n",
      "Bir\n",
      "Belki\n",
      "Bütün\n",
      "Belki\n",
      "Kötü\n",
      "\n",
      "Ne\n",
      "Bu\n",
      "Ayıpsız\n",
      "Ne\n",
      "Sus\n",
      "İçim\n",
      "Hayır\n",
      "Ben\n"
     ]
    }
   ],
   "source": [
    "with open(\"Ben Sana Mecburum - Attila İlhan.txt\",\"r\", encoding='utf8' ) as file:\n",
    "    counter = 0\n",
    "\n",
    "    content = file.read()\n",
    "    lines = content.split(\"\\n\")\n",
    "    \n",
    "    for i in lines:\n",
    "        first_word=i.split(\" \")\n",
    "        print(first_word[0])\n"
   ]
  },
  {
   "cell_type": "code",
   "execution_count": null,
   "metadata": {},
   "outputs": [],
   "source": []
  }
 ],
 "metadata": {
  "kernelspec": {
   "display_name": "Python 3",
   "language": "python",
   "name": "python3"
  },
  "language_info": {
   "codemirror_mode": {
    "name": "ipython",
    "version": 3
   },
   "file_extension": ".py",
   "mimetype": "text/x-python",
   "name": "python",
   "nbconvert_exporter": "python",
   "pygments_lexer": "ipython3",
   "version": "3.7.6"
  }
 },
 "nbformat": 4,
 "nbformat_minor": 4
}
